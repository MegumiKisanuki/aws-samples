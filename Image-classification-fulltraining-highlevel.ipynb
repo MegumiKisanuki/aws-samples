{
 "cells": [
  {
   "cell_type": "markdown",
   "metadata": {},
   "source": [
    "# End-to-End Multiclass Image Classification Example\n",
    "1. [Introduction](#Introduction)\n",
    "2. [Prerequisites and Preprocessing](#Prequisites-and-Preprocessing)\n",
    "  1. [Permissions and environment variables](#Permissions-and-environment-variables)\n",
    "  2. [Prepare the data](#Prepare-the-data)\n",
    "3. [Training the model](#Training-the-model)\n",
    "  1. [Training parameters](#Training-parameters)\n",
    "  2. [Start the training](#Start-the-training)\n",
    "4. [Compile](#Compile)\n",
    "5. [Inference](#Inference)"
   ]
  },
  {
   "cell_type": "markdown",
   "metadata": {},
   "source": [
    "## Introduction\n",
    "\n",
    "Welcome to our end-to-end example of distributed image classification algorithm. In this demo, we will use the Amazon sagemaker image classification algorithm to train on the [caltech-256 dataset](http://www.vision.caltech.edu/Image_Datasets/Caltech256/). \n",
    "\n",
    "To get started, we need to set up the environment with a few prerequisite steps, for permissions, configurations, and so on."
   ]
  },
  {
   "cell_type": "markdown",
   "metadata": {},
   "source": [
    "## Prequisites and Preprocessing\n",
    "\n",
    "### Permissions and environment variables\n",
    "\n",
    "Here we set up the linkage and authentication to AWS services. There are three parts to this:\n",
    "\n",
    "* The roles used to give learning and hosting access to your data. This will automatically be obtained from the role used to start the notebook\n",
    "* The S3 bucket that you want to use for training and model data\n",
    "* The Amazon sagemaker image classification docker image which need not be changed"
   ]
  },
  {
   "cell_type": "code",
   "execution_count": 1,
   "metadata": {},
   "outputs": [
    {
     "name": "stdout",
     "output_type": "stream",
     "text": [
      "arn:aws:iam::966818761915:role/service-role/AmazonSageMaker-ExecutionRole-20190925T115221\n",
      "3.6.5 |Anaconda, Inc.| (default, Apr 29 2018, 16:14:56) \n",
      "[GCC 7.2.0]\n",
      "CPU times: user 961 ms, sys: 108 ms, total: 1.07 s\n",
      "Wall time: 1.59 s\n"
     ]
    }
   ],
   "source": [
    "%%time\n",
    "import sagemaker\n",
    "from sagemaker import get_execution_role\n",
    "\n",
    "import sys\n",
    "\n",
    "role = get_execution_role()\n",
    "print(role)\n",
    "\n",
    "sess = sagemaker.Session()\n",
    "bucket='sagemaker-kisanuki'\n",
    "prefix = 'ic-fulltraining'\n",
    "\n",
    "print(sys.version)"
   ]
  },
  {
   "cell_type": "code",
   "execution_count": 2,
   "metadata": {},
   "outputs": [
    {
     "name": "stdout",
     "output_type": "stream",
     "text": [
      "501404015308.dkr.ecr.ap-northeast-1.amazonaws.com/image-classification:latest\n"
     ]
    }
   ],
   "source": [
    "from sagemaker.amazon.amazon_estimator import get_image_uri\n",
    "\n",
    "training_image = get_image_uri(sess.boto_region_name, 'image-classification', repo_version=\"latest\")\n",
    "print (training_image)"
   ]
  },
  {
   "cell_type": "markdown",
   "metadata": {},
   "source": [
    "### Data preparation\n",
    "Download the data and transfer to S3 for use in training. In this demo, we are using [Caltech-256](http://www.vision.caltech.edu/Image_Datasets/Caltech256/) dataset, which contains 30608 images of 256 objects. For the training and validation data, we follow the splitting scheme in this MXNet [example](https://github.com/apache/incubator-mxnet/blob/master/example/image-classification/data/caltech256.sh). In particular, it randomly selects 60 images per class for training, and uses the remaining data for validation. The algorithm takes `RecordIO` file as input. The user can also provide the image files as input, which will be converted into `RecordIO` format using MXNet's [im2rec](https://mxnet.incubator.apache.org/how_to/recordio.html?highlight=im2rec) tool. It takes around 50 seconds to converted the entire Caltech-256 dataset (~1.2GB) on a p2.xlarge instance. However, for this demo, we will use record io format. "
   ]
  },
  {
   "cell_type": "code",
   "execution_count": 3,
   "metadata": {},
   "outputs": [],
   "source": [
    "import os \n",
    "import urllib.request\n",
    "import boto3\n",
    "\n",
    "def download(url):\n",
    "    filename = url.split(\"/\")[-1]\n",
    "    if not os.path.exists(filename):\n",
    "        urllib.request.urlretrieve(url, filename)\n",
    "\n",
    "        \n",
    "def upload_to_s3(channel, file):\n",
    "    s3 = boto3.resource('s3')\n",
    "    data = open(file, \"rb\")\n",
    "    key = channel + '/' + file\n",
    "    s3.Bucket(bucket).put_object(Key=key, Body=data)\n",
    "\n",
    "\n",
    "# caltech-256\n",
    "download('http://data.mxnet.io/data/caltech-256/caltech-256-60-train.rec')\n",
    "download('http://data.mxnet.io/data/caltech-256/caltech-256-60-val.rec')"
   ]
  },
  {
   "cell_type": "code",
   "execution_count": 4,
   "metadata": {},
   "outputs": [],
   "source": [
    "# Four channels: train, validation, train_lst, and validation_lst\n",
    "s3train = 's3://{}/{}/train/'.format(bucket, prefix)\n",
    "s3validation = 's3://{}/{}/validation/'.format(bucket, prefix)\n",
    "\n",
    "# upload the lst files to train and validation channels\n",
    "!aws s3 cp caltech-256-60-train.rec $s3train --quiet\n",
    "!aws s3 cp caltech-256-60-val.rec $s3validation --quiet"
   ]
  },
  {
   "cell_type": "markdown",
   "metadata": {},
   "source": [
    "\n",
    "\n",
    "Once we have the data available in the correct format for training, the next step is to actually train the model using the data. After setting training parameters, we kick off training, and poll for status until training is completed.\n"
   ]
  },
  {
   "cell_type": "markdown",
   "metadata": {},
   "source": [
    "## Training the model\n",
    "\n",
    "Now that we are done with all the setup that is needed, we are ready to train our object detector. To begin, let us create a ``sageMaker.estimator.Estimator`` object. This estimator will launch the training job.\n",
    "### Training parameters\n",
    "There are two kinds of parameters that need to be set for training. The first one are the parameters for the training job. These include:\n",
    "\n",
    "* **Training instance count**: This is the number of instances on which to run the training. When the number of instances is greater than one, then the image classification algorithm will run in distributed settings. \n",
    "* **Training instance type**: This indicates the type of machine on which to run the training. Typically, we use GPU instances for these training \n",
    "* **Output path**: This the s3 folder in which the training output is stored\n"
   ]
  },
  {
   "cell_type": "code",
   "execution_count": 5,
   "metadata": {},
   "outputs": [],
   "source": [
    "s3_output_location = 's3://{}/{}/output'.format(bucket, prefix)\n",
    "ic = sagemaker.estimator.Estimator(training_image,\n",
    "                                         role, \n",
    "                                         train_instance_count=1, \n",
    "                                         train_instance_type='ml.p2.xlarge',#高速コンピューティング\n",
    "                                         train_volume_size = 50,\n",
    "                                         train_max_run = 360000,\n",
    "                                         input_mode= 'File',\n",
    "                                         output_path=s3_output_location,\n",
    "                                         sagemaker_session=sess)"
   ]
  },
  {
   "cell_type": "markdown",
   "metadata": {},
   "source": [
    "Apart from the above set of parameters, there are hyperparameters that are specific to the algorithm. These are:\n",
    "\n",
    "* **num_layers**: The number of layers (depth) for the network. We use 18 in this samples but other values such as 50, 152 can be used.\n",
    "* **image_shape**: The input image dimensions,'num_channels, height, width', for the network. It should be no larger than the actual image size. The number of channels should be same as the actual image.\n",
    "* **num_classes**: This is the number of output classes for the new dataset. Imagenet was trained with 1000 output classes but the number of output classes can be changed for fine-tuning. For caltech, we use 257 because it has 256 object categories + 1 clutter class.\n",
    "* **num_training_samples**: This is the total number of training samples. It is set to 15240 for caltech dataset with the current split.\n",
    "* **mini_batch_size**: The number of training samples used for each mini batch. In distributed training, the number of training samples used per batch will be N * mini_batch_size where N is the number of hosts on which training is run.\n",
    "* **epochs**: Number of training epochs.\n",
    "* **learning_rate**: Learning rate for training.\n",
    "* **top_k**: Report the top-k accuracy during training.\n",
    "* **precision_dtype**: Training datatype precision (default: float32). If set to 'float16', the training will be done in mixed_precision mode and will be faster than float32 mode\n"
   ]
  },
  {
   "cell_type": "code",
   "execution_count": 6,
   "metadata": {},
   "outputs": [],
   "source": [
    "ic.set_hyperparameters(num_layers=18,\n",
    "                             image_shape = \"3,224,224\",\n",
    "                             num_classes=257,\n",
    "                             num_training_samples=15420,\n",
    "                             mini_batch_size=128,\n",
    "                             epochs=5,\n",
    "                             learning_rate=0.01,\n",
    "                             top_k=2,\n",
    "                             precision_dtype='float32')"
   ]
  },
  {
   "cell_type": "markdown",
   "metadata": {},
   "source": [
    "## Input data specification\n",
    "Set the data type and channels used for training\n",
    "データがどこにあるかをさす。"
   ]
  },
  {
   "cell_type": "code",
   "execution_count": 7,
   "metadata": {},
   "outputs": [],
   "source": [
    "train_data = sagemaker.session.s3_input(s3train, distribution='FullyReplicated', \n",
    "                        content_type='application/x-recordio', s3_data_type='S3Prefix')\n",
    "validation_data = sagemaker.session.s3_input(s3validation, distribution='FullyReplicated', \n",
    "                             content_type='application/x-recordio', s3_data_type='S3Prefix')\n",
    "\n",
    "data_channels = {'train': train_data, 'validation': validation_data}"
   ]
  },
  {
   "cell_type": "markdown",
   "metadata": {},
   "source": [
    "## Start the training\n",
    "Start training by calling the fit method in the estimator\n",
    "*fit():重みを学習する"
   ]
  },
  {
   "cell_type": "code",
   "execution_count": 8,
   "metadata": {
    "scrolled": true
   },
   "outputs": [
    {
     "name": "stdout",
     "output_type": "stream",
     "text": [
      "2019-10-29 06:10:11 Starting - Starting the training job...\n",
      "2019-10-29 06:10:13 Starting - Launching requested ML instances.........\n",
      "2019-10-29 06:11:43 Starting - Preparing the instances for training.........\n",
      "2019-10-29 06:13:19 Downloading - Downloading input data......\n",
      "2019-10-29 06:14:15 Training - Downloading the training image...\n",
      "2019-10-29 06:14:58 Training - Training image download completed. Training in progress.\u001b[31mDocker entrypoint called with argument(s): train\u001b[0m\n",
      "\u001b[31m[10/29/2019 06:15:02 INFO 140469068285760] Reading default configuration from /opt/amazon/lib/python2.7/site-packages/image_classification/default-input.json: {u'beta_1': 0.9, u'gamma': 0.9, u'beta_2': 0.999, u'optimizer': u'sgd', u'use_pretrained_model': 0, u'eps': 1e-08, u'epochs': 30, u'lr_scheduler_factor': 0.1, u'num_layers': 152, u'image_shape': u'3,224,224', u'precision_dtype': u'float32', u'mini_batch_size': 32, u'weight_decay': 0.0001, u'learning_rate': 0.1, u'momentum': 0}\u001b[0m\n",
      "\u001b[31m[10/29/2019 06:15:02 INFO 140469068285760] Reading provided configuration from /opt/ml/input/config/hyperparameters.json: {u'learning_rate': u'0.01', u'top_k': u'2', u'precision_dtype': u'float32', u'epochs': u'5', u'num_training_samples': u'15420', u'num_layers': u'18', u'mini_batch_size': u'128', u'image_shape': u'3,224,224', u'num_classes': u'257'}\u001b[0m\n",
      "\u001b[31m[10/29/2019 06:15:02 INFO 140469068285760] Final configuration: {u'top_k': u'2', u'optimizer': u'sgd', u'learning_rate': u'0.01', u'epochs': u'5', u'lr_scheduler_factor': 0.1, u'num_layers': u'18', u'precision_dtype': u'float32', u'mini_batch_size': u'128', u'num_classes': u'257', u'beta_1': 0.9, u'beta_2': 0.999, u'use_pretrained_model': 0, u'eps': 1e-08, u'weight_decay': 0.0001, u'momentum': 0, u'image_shape': u'3,224,224', u'gamma': 0.9, u'num_training_samples': u'15420'}\u001b[0m\n",
      "\u001b[31m[10/29/2019 06:15:02 INFO 140469068285760] Searching for .rec files in /opt/ml/input/data/train.\u001b[0m\n",
      "\u001b[31m[10/29/2019 06:15:02 INFO 140469068285760] Searching for .rec files in /opt/ml/input/data/validation.\u001b[0m\n",
      "\u001b[31m[10/29/2019 06:15:02 INFO 140469068285760] use_pretrained_model: 0\u001b[0m\n",
      "\u001b[31m[10/29/2019 06:15:02 INFO 140469068285760] multi_label: 0\u001b[0m\n",
      "\u001b[31m[10/29/2019 06:15:02 INFO 140469068285760] Performing random weight initialization\u001b[0m\n",
      "\u001b[31m[10/29/2019 06:15:02 INFO 140469068285760] ---- Parameters ----\u001b[0m\n",
      "\u001b[31m[10/29/2019 06:15:02 INFO 140469068285760] num_layers: 18\u001b[0m\n",
      "\u001b[31m[10/29/2019 06:15:02 INFO 140469068285760] data type: <type 'numpy.float32'>\u001b[0m\n",
      "\u001b[31m[10/29/2019 06:15:02 INFO 140469068285760] epochs: 5\u001b[0m\n",
      "\u001b[31m[10/29/2019 06:15:02 INFO 140469068285760] optimizer: sgd\u001b[0m\n",
      "\u001b[31m[10/29/2019 06:15:02 INFO 140469068285760] momentum: 0.9\u001b[0m\n",
      "\u001b[31m[10/29/2019 06:15:02 INFO 140469068285760] weight_decay: 0.0001\u001b[0m\n",
      "\u001b[31m[10/29/2019 06:15:02 INFO 140469068285760] learning_rate: 0.01\u001b[0m\n",
      "\u001b[31m[10/29/2019 06:15:02 INFO 140469068285760] num_training_samples: 15420\u001b[0m\n",
      "\u001b[31m[10/29/2019 06:15:02 INFO 140469068285760] mini_batch_size: 128\u001b[0m\n",
      "\u001b[31m[10/29/2019 06:15:02 INFO 140469068285760] image_shape: 3,224,224\u001b[0m\n",
      "\u001b[31m[10/29/2019 06:15:02 INFO 140469068285760] num_classes: 257\u001b[0m\n",
      "\u001b[31m[10/29/2019 06:15:02 INFO 140469068285760] augmentation_type: None\u001b[0m\n",
      "\u001b[31m[10/29/2019 06:15:02 INFO 140469068285760] kv_store: device\u001b[0m\n",
      "\u001b[31m[10/29/2019 06:15:02 INFO 140469068285760] top_k: 2\u001b[0m\n",
      "\u001b[31m[10/29/2019 06:15:02 INFO 140469068285760] checkpoint_frequency not set, will store the best model\u001b[0m\n",
      "\u001b[31m[10/29/2019 06:15:02 INFO 140469068285760] --------------------\u001b[0m\n",
      "\u001b[31m[10/29/2019 06:15:02 INFO 140469068285760] Setting number of threads: 3\u001b[0m\n",
      "\u001b[31m[06:15:11] /opt/brazil-pkg-cache/packages/AIAlgorithmsMXNet/AIAlgorithmsMXNet-1.3.x_ecl_Cuda_10.1.x.1085.0/AL2012/generic-flavor/src/src/operator/nn/./cudnn/./cudnn_algoreg-inl.h:97: Running performance tests to find the best convolution algorithm, this can take a while... (setting env variable MXNET_CUDNN_AUTOTUNE_DEFAULT to 0 to disable)\u001b[0m\n",
      "\u001b[31m[10/29/2019 06:15:32 INFO 140469068285760] Epoch[0] Batch [20]#011Speed: 118.299 samples/sec#011accuracy=0.004092#011top_k_accuracy_2=0.011161\u001b[0m\n",
      "\u001b[31m[10/29/2019 06:15:47 INFO 140469068285760] Epoch[0] Batch [40]#011Speed: 138.731 samples/sec#011accuracy=0.008765#011top_k_accuracy_2=0.018102\u001b[0m\n",
      "\u001b[31m[10/29/2019 06:16:03 INFO 140469068285760] Epoch[0] Batch [60]#011Speed: 147.077 samples/sec#011accuracy=0.014216#011top_k_accuracy_2=0.025231\u001b[0m\n",
      "\u001b[31m[10/29/2019 06:16:18 INFO 140469068285760] Epoch[0] Batch [80]#011Speed: 151.510 samples/sec#011accuracy=0.018036#011top_k_accuracy_2=0.031829\u001b[0m\n",
      "\u001b[31m[10/29/2019 06:16:33 INFO 140469068285760] Epoch[0] Batch [100]#011Speed: 154.213 samples/sec#011accuracy=0.022432#011top_k_accuracy_2=0.037670\u001b[0m\n",
      "\u001b[31m[10/29/2019 06:16:48 INFO 140469068285760] Epoch[0] Train-accuracy=0.025716\u001b[0m\n",
      "\u001b[31m[10/29/2019 06:16:48 INFO 140469068285760] Epoch[0] Train-top_k_accuracy_2=0.042969\u001b[0m\n",
      "\u001b[31m[10/29/2019 06:16:48 INFO 140469068285760] Epoch[0] Time cost=97.716\u001b[0m\n",
      "\u001b[31m[10/29/2019 06:17:17 INFO 140469068285760] Epoch[0] Validation-accuracy=0.063091\u001b[0m\n",
      "\u001b[31m[10/29/2019 06:17:17 INFO 140469068285760] Storing the best model with validation accuracy: 0.063091\u001b[0m\n",
      "\u001b[31m[10/29/2019 06:17:17 INFO 140469068285760] Saved checkpoint to \"/opt/ml/model/image-classification-0001.params\"\u001b[0m\n",
      "\u001b[31m[10/29/2019 06:17:33 INFO 140469068285760] Epoch[1] Batch [20]#011Speed: 161.073 samples/sec#011accuracy=0.050967#011top_k_accuracy_2=0.084077\u001b[0m\n",
      "\u001b[31m[10/29/2019 06:17:48 INFO 140469068285760] Epoch[1] Batch [40]#011Speed: 162.173 samples/sec#011accuracy=0.054878#011top_k_accuracy_2=0.087652\u001b[0m\n",
      "\u001b[31m[10/29/2019 06:18:04 INFO 140469068285760] Epoch[1] Batch [60]#011Speed: 162.564 samples/sec#011accuracy=0.056481#011top_k_accuracy_2=0.089011\u001b[0m\n",
      "\u001b[31m[10/29/2019 06:18:20 INFO 140469068285760] Epoch[1] Batch [80]#011Speed: 162.734 samples/sec#011accuracy=0.060475#011top_k_accuracy_2=0.096354\u001b[0m\n",
      "\u001b[31m[10/29/2019 06:18:35 INFO 140469068285760] Epoch[1] Batch [100]#011Speed: 162.894 samples/sec#011accuracy=0.063041#011top_k_accuracy_2=0.099242\u001b[0m\n",
      "\u001b[31m[10/29/2019 06:18:50 INFO 140469068285760] Epoch[1] Train-accuracy=0.066992\u001b[0m\n",
      "\u001b[31m[10/29/2019 06:18:50 INFO 140469068285760] Epoch[1] Train-top_k_accuracy_2=0.104622\u001b[0m\n",
      "\u001b[31m[10/29/2019 06:18:50 INFO 140469068285760] Epoch[1] Time cost=93.451\u001b[0m\n",
      "\u001b[31m[10/29/2019 06:19:17 INFO 140469068285760] Epoch[1] Validation-accuracy=0.117056\u001b[0m\n",
      "\u001b[31m[10/29/2019 06:19:17 INFO 140469068285760] Storing the best model with validation accuracy: 0.117056\u001b[0m\n",
      "\u001b[31m[10/29/2019 06:19:18 INFO 140469068285760] Saved checkpoint to \"/opt/ml/model/image-classification-0002.params\"\u001b[0m\n",
      "\u001b[31m[10/29/2019 06:19:34 INFO 140469068285760] Epoch[2] Batch [20]#011Speed: 161.342 samples/sec#011accuracy=0.088170#011top_k_accuracy_2=0.129464\u001b[0m\n",
      "\u001b[31m[10/29/2019 06:19:49 INFO 140469068285760] Epoch[2] Batch [40]#011Speed: 162.441 samples/sec#011accuracy=0.091845#011top_k_accuracy_2=0.133575\u001b[0m\n",
      "\u001b[31m[10/29/2019 06:20:05 INFO 140469068285760] Epoch[2] Batch [60]#011Speed: 162.840 samples/sec#011accuracy=0.094775#011top_k_accuracy_2=0.137935\u001b[0m\n",
      "\u001b[31m[10/29/2019 06:20:21 INFO 140469068285760] Epoch[2] Batch [80]#011Speed: 163.015 samples/sec#011accuracy=0.100212#011top_k_accuracy_2=0.147569\u001b[0m\n",
      "\u001b[31m[10/29/2019 06:20:36 INFO 140469068285760] Epoch[2] Batch [100]#011Speed: 163.095 samples/sec#011accuracy=0.103419#011top_k_accuracy_2=0.150913\u001b[0m\n",
      "\u001b[31m[10/29/2019 06:20:51 INFO 140469068285760] Epoch[2] Train-accuracy=0.105729\u001b[0m\n",
      "\u001b[31m[10/29/2019 06:20:51 INFO 140469068285760] Epoch[2] Train-top_k_accuracy_2=0.155208\u001b[0m\n",
      "\u001b[31m[10/29/2019 06:20:51 INFO 140469068285760] Epoch[2] Time cost=93.333\u001b[0m\n",
      "\u001b[31m[10/29/2019 06:21:19 INFO 140469068285760] Epoch[2] Validation-accuracy=0.156118\u001b[0m\n",
      "\u001b[31m[10/29/2019 06:21:19 INFO 140469068285760] Storing the best model with validation accuracy: 0.156118\u001b[0m\n",
      "\u001b[31m[10/29/2019 06:21:19 INFO 140469068285760] Saved checkpoint to \"/opt/ml/model/image-classification-0003.params\"\u001b[0m\n",
      "\u001b[31m[10/29/2019 06:21:35 INFO 140469068285760] Epoch[3] Batch [20]#011Speed: 161.533 samples/sec#011accuracy=0.119792#011top_k_accuracy_2=0.178199\u001b[0m\n",
      "\u001b[31m[10/29/2019 06:21:51 INFO 140469068285760] Epoch[3] Batch [40]#011Speed: 162.720 samples/sec#011accuracy=0.122332#011top_k_accuracy_2=0.177973\u001b[0m\n",
      "\u001b[31m[10/29/2019 06:22:06 INFO 140469068285760] Epoch[3] Batch [60]#011Speed: 163.123 samples/sec#011accuracy=0.124872#011top_k_accuracy_2=0.183274\u001b[0m\n",
      "\u001b[31m[10/29/2019 06:22:22 INFO 140469068285760] Epoch[3] Batch [80]#011Speed: 163.290 samples/sec#011accuracy=0.131848#011top_k_accuracy_2=0.192419\u001b[0m\n",
      "\u001b[31m[10/29/2019 06:22:37 INFO 140469068285760] Epoch[3] Batch [100]#011Speed: 163.430 samples/sec#011accuracy=0.135365#011top_k_accuracy_2=0.196241\u001b[0m\n",
      "\u001b[31m[10/29/2019 06:22:52 INFO 140469068285760] Epoch[3] Train-accuracy=0.138346\u001b[0m\n",
      "\u001b[31m[10/29/2019 06:22:52 INFO 140469068285760] Epoch[3] Train-top_k_accuracy_2=0.200521\u001b[0m\n",
      "\u001b[31m[10/29/2019 06:22:52 INFO 140469068285760] Epoch[3] Time cost=93.147\u001b[0m\n",
      "\u001b[31m[10/29/2019 06:23:20 INFO 140469068285760] Epoch[3] Validation-accuracy=0.182773\u001b[0m\n",
      "\u001b[31m[10/29/2019 06:23:20 INFO 140469068285760] Storing the best model with validation accuracy: 0.182773\u001b[0m\n",
      "\u001b[31m[10/29/2019 06:23:20 INFO 140469068285760] Saved checkpoint to \"/opt/ml/model/image-classification-0004.params\"\u001b[0m\n",
      "\u001b[31m[10/29/2019 06:23:36 INFO 140469068285760] Epoch[4] Batch [20]#011Speed: 161.347 samples/sec#011accuracy=0.154018#011top_k_accuracy_2=0.216890\u001b[0m\n",
      "\u001b[31m[10/29/2019 06:23:52 INFO 140469068285760] Epoch[4] Batch [40]#011Speed: 162.632 samples/sec#011accuracy=0.150915#011top_k_accuracy_2=0.216845\u001b[0m\n",
      "\u001b[31m[10/29/2019 06:24:07 INFO 140469068285760] Epoch[4] Batch [60]#011Speed: 162.973 samples/sec#011accuracy=0.155994#011top_k_accuracy_2=0.225538\u001b[0m\n",
      "\u001b[31m[10/29/2019 06:24:23 INFO 140469068285760] Epoch[4] Batch [80]#011Speed: 163.163 samples/sec#011accuracy=0.164062#011top_k_accuracy_2=0.234664\u001b[0m\n",
      "\u001b[31m[10/29/2019 06:24:39 INFO 140469068285760] Epoch[4] Batch [100]#011Speed: 163.261 samples/sec#011accuracy=0.165377#011top_k_accuracy_2=0.235613\u001b[0m\n",
      "\u001b[31m[10/29/2019 06:24:53 INFO 140469068285760] Epoch[4] Train-accuracy=0.169792\u001b[0m\n",
      "\u001b[31m[10/29/2019 06:24:53 INFO 140469068285760] Epoch[4] Train-top_k_accuracy_2=0.239844\u001b[0m\n",
      "\u001b[31m[10/29/2019 06:24:53 INFO 140469068285760] Epoch[4] Time cost=93.226\u001b[0m\n",
      "\n",
      "2019-10-29 06:25:25 Uploading - Uploading generated training model\u001b[31m[10/29/2019 06:25:21 INFO 140469068285760] Epoch[4] Validation-accuracy=0.200368\u001b[0m\n",
      "\u001b[31m[10/29/2019 06:25:21 INFO 140469068285760] Storing the best model with validation accuracy: 0.200368\u001b[0m\n",
      "\u001b[31m[10/29/2019 06:25:21 INFO 140469068285760] Saved checkpoint to \"/opt/ml/model/image-classification-0005.params\"\u001b[0m\n",
      "\n",
      "2019-10-29 06:25:35 Completed - Training job completed\n",
      "Training seconds: 736\n",
      "Billable seconds: 736\n"
     ]
    }
   ],
   "source": [
    "ic.fit(inputs=data_channels, logs=True)"
   ]
  },
  {
   "cell_type": "markdown",
   "metadata": {},
   "source": [
    "# Compile　モデルの最適化を行う\n",
    "\n",
    "***\n",
    "\n",
    "[Amazon SageMaker Neo](https://aws.amazon.com/sagemaker/neo/) optimizes models to run up to twice as fast, with no loss in accuracy. When calling `compile_model()` function, we specify the target instance family (m4) as well as the S3 bucket to which the compiled model would be stored."
   ]
  },
  {
   "cell_type": "code",
   "execution_count": null,
   "metadata": {},
   "outputs": [],
   "source": [
    "optimized_ic = ic\n",
    "try:\n",
    "    ic.create_model()._neo_image_account(boto3.Session().region_name)\n",
    "except:\n",
    "    print('Neo is not currently supported in', boto3.Session().region_name)\n",
    "else:\n",
    "    output_path = '/'.join(ic.output_path.split('/')[:-1])\n",
    "    optimized_ic = ic.compile_model(target_instance_family='ml_m4', \n",
    "                                input_shape={'data':[1, 3, 224, 224]},  # Batch size 1, 3 channels, 224x224 Images.\n",
    "                                output_path=output_path,\n",
    "                                framework='mxnet', framework_version='1.2.1')\n",
    "    optimized_ic.image = get_image_uri(sess.boto_region_name, 'image-classification-neo', repo_version=\"latest\")\n",
    "    optimized_ic.name = 'deployed-image-classification'\n",
    "    "
   ]
  },
  {
   "cell_type": "markdown",
   "metadata": {},
   "source": [
    "# Inference\n",
    "\n",
    "***\n",
    "\n",
    "A trained model does nothing on its own. We now want to use the model to perform inference. For this example, that means predicting the topic mixture representing a given document. You can deploy the created model by using the deploy method in the estimator"
   ]
  },
  {
   "cell_type": "code",
   "execution_count": 11,
   "metadata": {},
   "outputs": [],
   "source": [
    "ic_classifier = optimized_ic.deploy(initial_instance_count = 1,\n",
    "                                          instance_type = 'ml.m4.xlarge')"
   ]
  },
  {
   "cell_type": "code",
   "execution_count": 10,
   "metadata": {},
   "outputs": [
    {
     "name": "stdout",
     "output_type": "stream",
     "text": [
      "--------------------------------------------------------------------------------------------------------------------------!"
     ]
    }
   ],
   "source": [
    "ic_classifier = ic.deploy(initial_instance_count = 1,\n",
    "                                          instance_type = 'ml.m4.xlarge')"
   ]
  },
  {
   "cell_type": "markdown",
   "metadata": {},
   "source": [
    "### Download test image"
   ]
  },
  {
   "cell_type": "code",
   "execution_count": 18,
   "metadata": {},
   "outputs": [
    {
     "name": "stdout",
     "output_type": "stream",
     "text": [
      "--2019-10-29 06:46:33--  http://www.vision.caltech.edu/Image_Datasets/Caltech256/images/002.american-flag/002_0039.jpg\n",
      "Resolving www.vision.caltech.edu (www.vision.caltech.edu)... 34.208.54.77\n",
      "Connecting to www.vision.caltech.edu (www.vision.caltech.edu)|34.208.54.77|:80... connected.\n",
      "HTTP request sent, awaiting response... 200 OK\n",
      "Length: 7615 (7.4K) [image/jpeg]\n",
      "Saving to: ‘/tmp/test.jpg’\n",
      "\n",
      "/tmp/test.jpg       100%[===================>]   7.44K  --.-KB/s    in 0s      \n",
      "\n",
      "2019-10-29 06:46:33 (570 MB/s) - ‘/tmp/test.jpg’ saved [7615/7615]\n",
      "\n"
     ]
    },
    {
     "data": {
      "image/jpeg": "[encoded data removed]",
      "text/plain": [
       "<IPython.core.display.Image object>"
      ]
     },
     "execution_count": 18,
     "metadata": {},
     "output_type": "execute_result"
    }
   ],
   "source": [
    "#!wget -O /tmp/test.jpg http://www.vision.caltech.edu/Image_Datasets/Caltech256/images/221.tomato/221_0064.jpg\n",
    "#!wget -O /tmp/test.jpg http://www.vision.caltech.edu/Image_Datasets/Caltech256/images/008.bathtub/008_0007.jpg\n",
    "#!wget -O /tmp/test.jpg http://www.vision.caltech.edu/Image_Datasets/Caltech256/images/026.cake/026_0015.jpg\n",
    "!wget -O /tmp/test.jpg http://www.vision.caltech.edu/Image_Datasets/Caltech256/images/002.american-flag/002_0039.jpg\n",
    "file_name = '/tmp/test.jpg'\n",
    "# test image\n",
    "from IPython.display import Image\n",
    "Image(file_name)  "
   ]
  },
  {
   "cell_type": "markdown",
   "metadata": {},
   "source": [
    "### Evaluation\n",
    "\n",
    "Evaluate the image through the network for inteference. The network outputs class probabilities and typically, one selects the class with the maximum probability as the final class output.\n",
    "\n",
    "**Note:** The output class detected by the network may not be accurate in this example. To limit the time taken and cost of training, we have trained the model only for 5 epochs. If the network is trained for more epochs (say 20), then the output class will be more accurate."
   ]
  },
  {
   "cell_type": "code",
   "execution_count": 19,
   "metadata": {},
   "outputs": [
    {
     "name": "stdout",
     "output_type": "stream",
     "text": [
      "Result: label - american-flag, probability - 0.9633837342262268\n"
     ]
    }
   ],
   "source": [
    "import json\n",
    "import numpy as np\n",
    "\n",
    "with open(file_name, 'rb') as f:\n",
    "    payload = f.read()\n",
    "    payload = bytearray(payload)\n",
    "    \n",
    "ic_classifier.content_type = 'application/x-image'\n",
    "result = json.loads(ic_classifier.predict(payload))\n",
    "# the result will output the probabilities for all classes\n",
    "# find the class with maximum probability and print the class index\n",
    "index = np.argmax(result)\n",
    "object_categories = ['ak47', 'american-flag', 'backpack', 'baseball-bat', 'baseball-glove', 'basketball-hoop', 'bat', 'bathtub', 'bear', 'beer-mug', 'billiards', 'binoculars', 'birdbath', 'blimp', 'bonsai-101', 'boom-box', 'bowling-ball', 'bowling-pin', 'boxing-glove', 'brain-101', 'breadmaker', 'buddha-101', 'bulldozer', 'butterfly', 'cactus', 'cake', 'calculator', 'camel', 'cannon', 'canoe', 'car-tire', 'cartman', 'cd', 'centipede', 'cereal-box', 'chandelier-101', 'chess-board', 'chimp', 'chopsticks', 'cockroach', 'coffee-mug', 'coffin', 'coin', 'comet', 'computer-keyboard', 'computer-monitor', 'computer-mouse', 'conch', 'cormorant', 'covered-wagon', 'cowboy-hat', 'crab-101', 'desk-globe', 'diamond-ring', 'dice', 'dog', 'dolphin-101', 'doorknob', 'drinking-straw', 'duck', 'dumb-bell', 'eiffel-tower', 'electric-guitar-101', 'elephant-101', 'elk', 'ewer-101', 'eyeglasses', 'fern', 'fighter-jet', 'fire-extinguisher', 'fire-hydrant', 'fire-truck', 'fireworks', 'flashlight', 'floppy-disk', 'football-helmet', 'french-horn', 'fried-egg', 'frisbee', 'frog', 'frying-pan', 'galaxy', 'gas-pump', 'giraffe', 'goat', 'golden-gate-bridge', 'goldfish', 'golf-ball', 'goose', 'gorilla', 'grand-piano-101', 'grapes', 'grasshopper', 'guitar-pick', 'hamburger', 'hammock', 'harmonica', 'harp', 'harpsichord', 'hawksbill-101', 'head-phones', 'helicopter-101', 'hibiscus', 'homer-simpson', 'horse', 'horseshoe-crab', 'hot-air-balloon', 'hot-dog', 'hot-tub', 'hourglass', 'house-fly', 'human-skeleton', 'hummingbird', 'ibis-101', 'ice-cream-cone', 'iguana', 'ipod', 'iris', 'jesus-christ', 'joy-stick', 'kangaroo-101', 'kayak', 'ketch-101', 'killer-whale', 'knife', 'ladder', 'laptop-101', 'lathe', 'leopards-101', 'license-plate', 'lightbulb', 'light-house', 'lightning', 'llama-101', 'mailbox', 'mandolin', 'mars', 'mattress', 'megaphone', 'menorah-101', 'microscope', 'microwave', 'minaret', 'minotaur', 'motorbikes-101', 'mountain-bike', 'mushroom', 'mussels', 'necktie', 'octopus', 'ostrich', 'owl', 'palm-pilot', 'palm-tree', 'paperclip', 'paper-shredder', 'pci-card', 'penguin', 'people', 'pez-dispenser', 'photocopier', 'picnic-table', 'playing-card', 'porcupine', 'pram', 'praying-mantis', 'pyramid', 'raccoon', 'radio-telescope', 'rainbow', 'refrigerator', 'revolver-101', 'rifle', 'rotary-phone', 'roulette-wheel', 'saddle', 'saturn', 'school-bus', 'scorpion-101', 'screwdriver', 'segway', 'self-propelled-lawn-mower', 'sextant', 'sheet-music', 'skateboard', 'skunk', 'skyscraper', 'smokestack', 'snail', 'snake', 'sneaker', 'snowmobile', 'soccer-ball', 'socks', 'soda-can', 'spaghetti', 'speed-boat', 'spider', 'spoon', 'stained-glass', 'starfish-101', 'steering-wheel', 'stirrups', 'sunflower-101', 'superman', 'sushi', 'swan', 'swiss-army-knife', 'sword', 'syringe', 'tambourine', 'teapot', 'teddy-bear', 'teepee', 'telephone-box', 'tennis-ball', 'tennis-court', 'tennis-racket', 'theodolite', 'toaster', 'tomato', 'tombstone', 'top-hat', 'touring-bike', 'tower-pisa', 'traffic-light', 'treadmill', 'triceratops', 'tricycle', 'trilobite-101', 'tripod', 't-shirt', 'tuning-fork', 'tweezer', 'umbrella-101', 'unicorn', 'vcr', 'video-projector', 'washing-machine', 'watch-101', 'waterfall', 'watermelon', 'welding-mask', 'wheelbarrow', 'windmill', 'wine-bottle', 'xylophone', 'yarmulke', 'yo-yo', 'zebra', 'airplanes-101', 'car-side-101', 'faces-easy-101', 'greyhound', 'tennis-shoes', 'toad', 'clutter']\n",
    "print(\"Result: label - \" + object_categories[index] + \", probability - \" + str(result[index]))"
   ]
  },
  {
   "cell_type": "code",
   "execution_count": 20,
   "metadata": {},
   "outputs": [
    {
     "name": "stdout",
     "output_type": "stream",
     "text": [
      "count    100.000000\n",
      "mean       0.078410\n",
      "std        0.004153\n",
      "min        0.074922\n",
      "25%        0.076562\n",
      "50%        0.077196\n",
      "75%        0.078975\n",
      "max        0.109160\n",
      "dtype: float64\n",
      "CPU times: user 311 ms, sys: 6.68 ms, total: 317 ms\n",
      "Wall time: 7.85 s\n"
     ]
    }
   ],
   "source": [
    "%%time\n",
    "import time\n",
    "import pandas as pd\n",
    " \n",
    "process_times = []\n",
    "for i in range(100):\n",
    "    start_time = time.time()\n",
    "    result = json.loads(ic_classifier.predict(payload))\n",
    "    process_times.append(time.time() - start_time)\n",
    " \n",
    "print(pd.Series(process_times).describe())"
   ]
  },
  {
   "cell_type": "markdown",
   "metadata": {},
   "source": [
    "### Clean up\n",
    "\n",
    "\n",
    "When we're done with the endpoint, we can just delete it and the backing instances will be released. Uncomment and run the following cell to delete the endpoint and model"
   ]
  },
  {
   "cell_type": "code",
   "execution_count": null,
   "metadata": {},
   "outputs": [],
   "source": []
  },
  {
   "cell_type": "code",
   "execution_count": 21,
   "metadata": {},
   "outputs": [],
   "source": [
    "ic_classifier.delete_endpoint()"
   ]
  },
  {
   "cell_type": "code",
   "execution_count": null,
   "metadata": {},
   "outputs": [],
   "source": []
  }
 ],
 "metadata": {
  "kernelspec": {
   "display_name": "conda_python3",
   "language": "python",
   "name": "conda_python3"
  },
  "language_info": {
   "codemirror_mode": {
    "name": "ipython",
    "version": 3
   },
   "file_extension": ".py",
   "mimetype": "text/x-python",
   "name": "python",
   "nbconvert_exporter": "python",
   "pygments_lexer": "ipython3",
   "version": "3.6.5"
  },
  "notice": "Copyright 2018 Amazon.com, Inc. or its affiliates. All Rights Reserved.  Licensed under the Apache License, Version 2.0 (the \"License\"). You may not use this file except in compliance with the License. A copy of the License is located at http://aws.amazon.com/apache2.0/ or in the \"license\" file accompanying this file. This file is distributed on an \"AS IS\" BASIS, WITHOUT WARRANTIES OR CONDITIONS OF ANY KIND, either express or implied. See the License for the specific language governing permissions and limitations under the License."
 },
 "nbformat": 4,
 "nbformat_minor": 4
}
